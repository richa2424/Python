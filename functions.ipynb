{
 "cells": [
  {
   "cell_type": "code",
   "execution_count": 3,
   "metadata": {},
   "outputs": [],
   "source": [
    "# functionsin python\n",
    "\n",
    "def funName():\n",
    "    print(\"Function executes\")"
   ]
  },
  {
   "cell_type": "code",
   "execution_count": 2,
   "metadata": {},
   "outputs": [
    {
     "name": "stdout",
     "output_type": "stream",
     "text": [
      "Function executes\n"
     ]
    }
   ],
   "source": [
    "funName()"
   ]
  },
  {
   "cell_type": "code",
   "execution_count": 5,
   "metadata": {},
   "outputs": [],
   "source": [
    "# parameterized functions\n",
    "\n",
    "def add(a,b):\n",
    "    # print(a+b)\n",
    "    return a+b"
   ]
  },
  {
   "cell_type": "code",
   "execution_count": 6,
   "metadata": {},
   "outputs": [
    {
     "name": "stdout",
     "output_type": "stream",
     "text": [
      "Sum is :  55\n"
     ]
    }
   ],
   "source": [
    "addition = add(22,33)\n",
    "print(\"Sum is : \",addition)"
   ]
  },
  {
   "cell_type": "code",
   "execution_count": 17,
   "metadata": {},
   "outputs": [],
   "source": [
    "#aargs - Arbitary Arguments  i.e. number of arguments are not known \n",
    "# it is defined by using an asterik sign before argument (*args)\n",
    "\n",
    "def family(*args):\n",
    "    print(\"youngest child is: \", args[-1])"
   ]
  },
  {
   "cell_type": "code",
   "execution_count": 20,
   "metadata": {},
   "outputs": [
    {
     "name": "stdout",
     "output_type": "stream",
     "text": [
      "youngest child is:  b\n",
      "youngest child is:  c\n",
      "youngest child is:  a\n"
     ]
    }
   ],
   "source": [
    "family(\"a\", \"b\")\n",
    "family(\"a\", \"b\",\"c\")\n",
    "family(\"a\")"
   ]
  },
  {
   "cell_type": "code",
   "execution_count": 22,
   "metadata": {},
   "outputs": [
    {
     "data": {
      "text/plain": [
       "55"
      ]
     },
     "execution_count": 22,
     "metadata": {},
     "output_type": "execute_result"
    }
   ],
   "source": [
    "def addNumbers(*args):\n",
    "    total  = 0\n",
    "    for numbers in args:\n",
    "        total += numbers\n",
    "       \n",
    "    return total \n",
    "\n",
    "addNumbers(1,2,3,4,5,6,7,8,9,10)"
   ]
  },
  {
   "cell_type": "code",
   "execution_count": 25,
   "metadata": {},
   "outputs": [
    {
     "name": "stdout",
     "output_type": "stream",
     "text": [
      " First Student is: ria\n",
      "Second Student is: tia\n",
      "Third Student is: mia\n"
     ]
    }
   ],
   "source": [
    "# Keyword Arguments -- For Key value pair arguments\n",
    "\n",
    "def student(a,b,c):\n",
    "    print(\" First Student is:\", a)\n",
    "    print(\"Second Student is:\", b)\n",
    "    print(\"Third Student is:\", c)\n",
    "\n",
    "student(a = \"ria\", b = \"tia\", c= \"mia\")"
   ]
  },
  {
   "cell_type": "code",
   "execution_count": 27,
   "metadata": {},
   "outputs": [
    {
     "name": "stdout",
     "output_type": "stream",
     "text": [
      "Last name of kid is: sharma\n",
      "fname--> richa\n",
      "lname--> sharma\n"
     ]
    }
   ],
   "source": [
    "# arbitary Keword Arguments-- when numbr of argumnets (Key value pair) are not known\n",
    "# defined bu double asterik(**)\n",
    "\n",
    "def my_function(**Kids):\n",
    "    print(\"Last name of kid is:\", Kids[\"lname\"])\n",
    "\n",
    "    for key, value in Kids.items():\n",
    "        print(key + \"--> \" + str(value))   # type casting the value here\n",
    "\n",
    "my_function(fname = \"richa\", lname = \"sharma\")        "
   ]
  },
  {
   "cell_type": "code",
   "execution_count": 30,
   "metadata": {},
   "outputs": [
    {
     "name": "stdout",
     "output_type": "stream",
     "text": [
      "I like  football\n",
      "I like  Cricket\n"
     ]
    }
   ],
   "source": [
    "# Default Arguments\n",
    "\n",
    "def sports(name = \"football\"):\n",
    "    print(\"I like \",name)\n",
    "\n",
    "sports()    \n",
    "sports(\"Cricket\")    "
   ]
  },
  {
   "cell_type": "code",
   "execution_count": 3,
   "metadata": {},
   "outputs": [],
   "source": [
    "# Passin a list as an argument\n",
    "\n",
    "def average(num):\n",
    "    return sum(num)/len(num)\n",
    "\n"
   ]
  },
  {
   "cell_type": "code",
   "execution_count": 2,
   "metadata": {},
   "outputs": [
    {
     "data": {
      "text/plain": [
       "3.0"
      ]
     },
     "execution_count": 2,
     "metadata": {},
     "output_type": "execute_result"
    }
   ],
   "source": [
    "average([1,2,3,4,5])"
   ]
  },
  {
   "cell_type": "code",
   "execution_count": 23,
   "metadata": {},
   "outputs": [
    {
     "data": {
      "text/plain": [
       "[1, 4, 9, 16]"
      ]
     },
     "execution_count": 23,
     "metadata": {},
     "output_type": "execute_result"
    }
   ],
   "source": [
    "# squares of numbers in a list given in a list\n",
    "\n",
    "def squareOfNum(numbers):\n",
    "    output =[]\n",
    "    for i in numbers:\n",
    "        # print(i*i)\n",
    "        output.append(i*i)\n",
    "    return output\n",
    "\n",
    "\n",
    "squareOfNum([1,2,3,4])\n",
    "\n"
   ]
  },
  {
   "cell_type": "code",
   "execution_count": 24,
   "metadata": {},
   "outputs": [
    {
     "data": {
      "text/plain": [
       "14"
      ]
     },
     "execution_count": 24,
     "metadata": {},
     "output_type": "execute_result"
    }
   ],
   "source": [
    "# lambda functions .... this is an inline function used to do small tasks .\n",
    "# It can take multiple arguments but only single expression\n",
    "# It reduces space and time complexity\n",
    "\n",
    "x = lambda a : a+10\n",
    "x(4)"
   ]
  },
  {
   "cell_type": "code",
   "execution_count": 25,
   "metadata": {},
   "outputs": [
    {
     "data": {
      "text/plain": [
       "125"
      ]
     },
     "execution_count": 25,
     "metadata": {},
     "output_type": "execute_result"
    }
   ],
   "source": [
    "# cube with lambda functions\n",
    "\n",
    "x = lambda a : a*a*a\n",
    "x(5)"
   ]
  },
  {
   "cell_type": "code",
   "execution_count": 26,
   "metadata": {},
   "outputs": [
    {
     "data": {
      "text/plain": [
       "129"
      ]
     },
     "execution_count": 26,
     "metadata": {},
     "output_type": "execute_result"
    }
   ],
   "source": [
    "# lambda function with two variables\n",
    "x = lambda a, b : a*a*a +b*b\n",
    "x(5, 2)"
   ]
  },
  {
   "cell_type": "code",
   "execution_count": 28,
   "metadata": {},
   "outputs": [
    {
     "name": "stdout",
     "output_type": "stream",
     "text": [
      "<map object at 0x00000221B8821E10>\n",
      "[1, 8, 27, 64, 125]\n"
     ]
    }
   ],
   "source": [
    "# map function ..... it maps a function on the provided list. \n",
    "# It gives  a object as a result. To see the result type casting it in a list\n",
    "\n",
    "lst = [1,2,3,4,5]\n",
    "result = map(lambda a: a*a*a , lst)  # can provide any function already written\n",
    "print(result)        # It gives object as a result\n",
    "print(list(result)) # Type casting to see the result in list\n"
   ]
  },
  {
   "cell_type": "code",
   "execution_count": 33,
   "metadata": {},
   "outputs": [
    {
     "name": "stdout",
     "output_type": "stream",
     "text": [
      "<filter object at 0x00000221B881FF10>\n",
      "[2, 4]\n"
     ]
    }
   ],
   "source": [
    "\n",
    "# filter function ..... it filters a list on the provided list. \n",
    "# It gives  a object as a result. To see the result type casting it in a list\n",
    "\n",
    "lst = [1,2,3,4,5]\n",
    "result = filter(lambda a: a%2 == 0 , lst)  # filtering for even numbers\n",
    "print(result)        # It gives object as a result\n",
    "print(list(result)) # Type casting to see the result in list"
   ]
  },
  {
   "cell_type": "code",
   "execution_count": 35,
   "metadata": {},
   "outputs": [
    {
     "name": "stdout",
     "output_type": "stream",
     "text": [
      "15\n"
     ]
    }
   ],
   "source": [
    "# reduce funtion..... to use it needs to be import from functools module.\n",
    "#  It reduces any iterable to a specific funtion\n",
    " # it runs from left to right, do operation on first two elements then result and next element and so on\n",
    "\n",
    "from functools import reduce\n",
    "\n",
    "lst = [1,2,3,4,5]\n",
    "result = reduce(lambda a,b: a+b , lst) \n",
    "print(result)        "
   ]
  },
  {
   "cell_type": "code",
   "execution_count": null,
   "metadata": {},
   "outputs": [],
   "source": []
  }
 ],
 "metadata": {
  "kernelspec": {
   "display_name": "Python 3",
   "language": "python",
   "name": "python3"
  },
  "language_info": {
   "codemirror_mode": {
    "name": "ipython",
    "version": 3
   },
   "file_extension": ".py",
   "mimetype": "text/x-python",
   "name": "python",
   "nbconvert_exporter": "python",
   "pygments_lexer": "ipython3",
   "version": "3.13.1"
  }
 },
 "nbformat": 4,
 "nbformat_minor": 2
}
