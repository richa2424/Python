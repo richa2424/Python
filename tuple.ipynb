{
 "cells": [
  {
   "cell_type": "code",
   "execution_count": 16,
   "metadata": {},
   "outputs": [
    {
     "name": "stdout",
     "output_type": "stream",
     "text": [
      "[1, 2, 3, 4, 5, 'a', 'abx', True]\n",
      "<class 'list'>\n"
     ]
    }
   ],
   "source": [
    "list1 = [1,2,3,4,5,'a','abx',True]\n",
    "print(list1)\n",
    "print(type(list1))"
   ]
  },
  {
   "cell_type": "code",
   "execution_count": 45,
   "metadata": {},
   "outputs": [
    {
     "name": "stdout",
     "output_type": "stream",
     "text": [
      "[1, 2, 3, 4, 5, 'a', 'abx', True]\n",
      "None\n",
      "[True, 1, 2, 1, 'abx', 'a', 5, 4, 3, 2, 1]\n"
     ]
    }
   ],
   "source": [
    "#list1.append(33)\n",
    "# list1.insert(3,22)\n",
    "# list1.index(3)\n",
    "list2 = list1.copy()\n",
    "\n",
    "print(list2)\n",
    "list2.pop()\n",
    "list2.extend([1,2,1,True])\n",
    "list2.count(1)\n",
    "print(list2.reverse())\n",
    "print(list2)\n",
    "# print(list2.index(3))   # showing the index of element 3, if not present in the list then gives error"
   ]
  },
  {
   "cell_type": "code",
   "execution_count": 53,
   "metadata": {},
   "outputs": [
    {
     "name": "stdout",
     "output_type": "stream",
     "text": [
      "[1, 4, 5, 62, 77, 34, 23]\n",
      "The sorted list is :  [1, 4, 5, 23, 34, 62, 77]\n"
     ]
    }
   ],
   "source": [
    "list1 = [1,4,5,62,77,34,23]\n",
    "print(list1)\n",
    "list1.sort()\n",
    "print(\"The sorted list is : \", list1)\n"
   ]
  },
  {
   "cell_type": "markdown",
   "metadata": {},
   "source": []
  },
  {
   "cell_type": "code",
   "execution_count": 54,
   "metadata": {},
   "outputs": [
    {
     "name": "stdout",
     "output_type": "stream",
     "text": [
      "[1, 2, 3, 'a', 'b', 'c']\n"
     ]
    }
   ],
   "source": [
    "list1 = [1,2,3]\n",
    "list2 = [\"a\", \"b\", \"c\"]\n",
    "list3 = list1 + list2\n",
    "print(list3)"
   ]
  },
  {
   "cell_type": "code",
   "execution_count": 67,
   "metadata": {},
   "outputs": [
    {
     "data": {
      "text/plain": [
       "[]"
      ]
     },
     "execution_count": 67,
     "metadata": {},
     "output_type": "execute_result"
    }
   ],
   "source": [
    "\n",
    "list1[::-1]\n",
    "list3[1:]\n",
    "list3[:5]\n",
    "list3[7:5]"
   ]
  },
  {
   "cell_type": "code",
   "execution_count": null,
   "metadata": {},
   "outputs": [],
   "source": []
  }
 ],
 "metadata": {
  "kernelspec": {
   "display_name": "Python 3",
   "language": "python",
   "name": "python3"
  },
  "language_info": {
   "codemirror_mode": {
    "name": "ipython",
    "version": 3
   },
   "file_extension": ".py",
   "mimetype": "text/x-python",
   "name": "python",
   "nbconvert_exporter": "python",
   "pygments_lexer": "ipython3",
   "version": "3.13.1"
  }
 },
 "nbformat": 4,
 "nbformat_minor": 2
}
