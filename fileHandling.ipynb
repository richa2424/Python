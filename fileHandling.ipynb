{
 "cells": [
  {
   "cell_type": "code",
   "execution_count": 3,
   "metadata": {},
   "outputs": [
    {
     "name": "stdout",
     "output_type": "stream",
     "text": [
      "Hello World\n"
     ]
    }
   ],
   "source": [
    "# open a file in Read Mode\n",
    "# By using With Keyword no need to close the file explicitly\n",
    "with open(\"file1.txt\" , \"r\")as f:\n",
    "    print(f.read())"
   ]
  },
  {
   "cell_type": "code",
   "execution_count": 4,
   "metadata": {},
   "outputs": [
    {
     "name": "stdout",
     "output_type": "stream",
     "text": [
      "Hello World\n"
     ]
    }
   ],
   "source": [
    "# open a file without with\n",
    "\n",
    "f = open(\"file1.txt\",\"r\")\n",
    "print(f.read())\n",
    "f.close()"
   ]
  },
  {
   "cell_type": "code",
   "execution_count": 11,
   "metadata": {},
   "outputs": [
    {
     "name": "stdout",
     "output_type": "stream",
     "text": [
      "Hello World\n",
      "\n",
      "File Handling\n"
     ]
    }
   ],
   "source": [
    "# reading line by line using readline\n",
    "\n",
    "with open(\"file1.txt\" , \"r\")as f:\n",
    "    print(f.readline())\n",
    "    print(f.readline())"
   ]
  },
  {
   "cell_type": "code",
   "execution_count": 13,
   "metadata": {},
   "outputs": [
    {
     "name": "stdout",
     "output_type": "stream",
     "text": [
      "He\n",
      "ll\n",
      "o Wor\n"
     ]
    }
   ],
   "source": [
    "# reading character by character using readline\n",
    "\n",
    "with open(\"file1.txt\" , \"r\")as f:\n",
    "    print(f.readline(2))\n",
    "    print(f.readline(2))\n",
    "    print(f.readline(5))"
   ]
  },
  {
   "cell_type": "code",
   "execution_count": 30,
   "metadata": {},
   "outputs": [
    {
     "name": "stdout",
     "output_type": "stream",
     "text": [
      "['Hello World\\n', 'File Handling']\n"
     ]
    }
   ],
   "source": [
    "# reading a file into a list format by using readlines\n",
    "\n",
    "with open(\"file1.txt\" , \"r\")as f:\n",
    "    print(f.readlines())\n",
    "    # print(f.readlines(10))   argument is optional and this size is byte size"
   ]
  },
  {
   "cell_type": "code",
   "execution_count": null,
   "metadata": {},
   "outputs": [],
   "source": [
    "# write a file (w mode overwrites the existing file)\n",
    "with open(\"file1.txt\" , \"w\")as f:\n",
    "    f.write(\"New Line\")\n",
    "   # f.read()  It gives error because file is not"
   ]
  },
  {
   "cell_type": "code",
   "execution_count": 35,
   "metadata": {},
   "outputs": [
    {
     "name": "stdout",
     "output_type": "stream",
     "text": [
      "New Line\n"
     ]
    }
   ],
   "source": [
    "# To open a filein read and write mode simultaneouslu use r+ or w+ mode\n",
    "with open(\"file1.txt\" , \"w+\")as f:\n",
    "    f.write(\"New Line\")\n",
    "    f.seek(0)  # seek before reading a file to set the pointer\n",
    "    print(f.read())"
   ]
  },
  {
   "cell_type": "code",
   "execution_count": 39,
   "metadata": {},
   "outputs": [
    {
     "name": "stdout",
     "output_type": "stream",
     "text": [
      "New Line\n",
      "Append a New Line\n",
      "Append a New Line\n",
      "Append a New Line\n",
      "Append a New Line\n"
     ]
    }
   ],
   "source": [
    "# To open a file in append mode to update an existing file, this does not overwites\n",
    "# a+ mose is used to read and append simultaneously\n",
    "with open(\"file1.txt\" , \"a+\")as f:\n",
    "    f.write(\"\\nAppend a New Line\")\n",
    "    f.seek(0)  # seek before reading a file to set the pointer\n",
    "    print(f.read())"
   ]
  },
  {
   "cell_type": "code",
   "execution_count": 41,
   "metadata": {},
   "outputs": [],
   "source": [
    "import json\n",
    "\n",
    "# writing a json node\n",
    "data = {\"name\":\"abc\", \"city\":\"jaipur\"}\n",
    "with open(\"dataFile.json\", \"w\")as f:\n",
    "    json.dump(data, f)\n",
    "    "
   ]
  },
  {
   "cell_type": "code",
   "execution_count": 42,
   "metadata": {},
   "outputs": [
    {
     "name": "stdout",
     "output_type": "stream",
     "text": [
      "{'name': 'abc', 'city': 'jaipur'}\n"
     ]
    }
   ],
   "source": [
    "# reading a data node\n",
    "\n",
    "with open(\"dataFile.json\", \"r\")as f:\n",
    "    content = json.load(f)\n",
    "    print(content)"
   ]
  },
  {
   "cell_type": "code",
   "execution_count": 43,
   "metadata": {},
   "outputs": [
    {
     "name": "stdout",
     "output_type": "stream",
     "text": [
      "New Line\n",
      "\n",
      "Append a New Line\n",
      "\n",
      "Append a New Line\n",
      "\n",
      "Append a New Line\n",
      "\n",
      "Append a New Line\n"
     ]
    }
   ],
   "source": [
    "# reading a file using for loop\n",
    "\n",
    "f = open(\"file1.txt\", \"r\")\n",
    "for i in f:\n",
    "    print(i)"
   ]
  },
  {
   "cell_type": "code",
   "execution_count": null,
   "metadata": {},
   "outputs": [],
   "source": []
  }
 ],
 "metadata": {
  "kernelspec": {
   "display_name": "Python 3",
   "language": "python",
   "name": "python3"
  },
  "language_info": {
   "codemirror_mode": {
    "name": "ipython",
    "version": 3
   },
   "file_extension": ".py",
   "mimetype": "text/x-python",
   "name": "python",
   "nbconvert_exporter": "python",
   "pygments_lexer": "ipython3",
   "version": "3.13.1"
  }
 },
 "nbformat": 4,
 "nbformat_minor": 2
}
