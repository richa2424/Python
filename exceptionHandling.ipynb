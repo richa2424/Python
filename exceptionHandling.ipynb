{
 "cells": [
  {
   "cell_type": "code",
   "execution_count": 5,
   "metadata": {},
   "outputs": [
    {
     "name": "stdout",
     "output_type": "stream",
     "text": [
      "try block\n",
      "division by zero\n",
      "finally block\n"
     ]
    }
   ],
   "source": [
    "# Division By Zero Error\n",
    "try:\n",
    "    print(\"try block\")\n",
    "    a = 10/0\n",
    "    print(\"Division : \", a)\n",
    "except Exception as e:\n",
    "    print(e)\n",
    "\n",
    "else:\n",
    "    print(\"No exception\")   \n",
    "finally:\n",
    "    print(\"finally block\") "
   ]
  },
  {
   "cell_type": "code",
   "execution_count": 6,
   "metadata": {},
   "outputs": [
    {
     "name": "stdout",
     "output_type": "stream",
     "text": [
      "list index out of range\n",
      "finally block\n"
     ]
    }
   ],
   "source": [
    "# Index out of Bound Error\n",
    "try:\n",
    "    # print(\"try block\")\n",
    "    a = [1,2,3,4,5]\n",
    "    print(\"list items : \", a[6])\n",
    "except Exception as e:\n",
    "    print(e)\n",
    "\n",
    "else:\n",
    "    print(\"No exception\")   \n",
    "finally:\n",
    "    print(\"finally block\") "
   ]
  },
  {
   "cell_type": "code",
   "execution_count": 11,
   "metadata": {},
   "outputs": [
    {
     "name": "stdout",
     "output_type": "stream",
     "text": [
      "'lname'\n",
      "finally block\n"
     ]
    }
   ],
   "source": [
    "#key Error\n",
    "try:\n",
    "    # print(\"try block\")\n",
    "    a = {\"name\": \"richa\", \"city\":\"Jaipur\"}\n",
    "    print(a[\"lname\"])\n",
    "except Exception as e:\n",
    "    print(e)\n",
    "\n",
    "else:\n",
    "    print(\"No exception\")   \n",
    "finally:\n",
    "    print(\"finally block\") "
   ]
  },
  {
   "cell_type": "code",
   "execution_count": 12,
   "metadata": {},
   "outputs": [
    {
     "name": "stdout",
     "output_type": "stream",
     "text": [
      "name 'abc' is not defined\n",
      "finally block\n"
     ]
    }
   ],
   "source": [
    "# Value Error\n",
    "try:\n",
    "    # print(\"try block\")\n",
    "    print(int(abc))\n",
    "except Exception as e:\n",
    "    print(e)\n",
    "\n",
    "else:\n",
    "    print(\"No exception\")   \n",
    "finally:\n",
    "    print(\"finally block\") "
   ]
  },
  {
   "cell_type": "code",
   "execution_count": 13,
   "metadata": {},
   "outputs": [
    {
     "name": "stdout",
     "output_type": "stream",
     "text": [
      "unsupported operand type(s) for +: 'dict' and 'int'\n",
      "finally block\n"
     ]
    }
   ],
   "source": [
    "# Type Error\n",
    "try:\n",
    "    # print(\"try block\")\n",
    "    print(a+10)\n",
    "except Exception as e:\n",
    "    print(e)\n",
    "\n",
    "else:\n",
    "    print(\"No exception\")   \n",
    "finally:\n",
    "    print(\"finally block\") "
   ]
  },
  {
   "cell_type": "code",
   "execution_count": null,
   "metadata": {},
   "outputs": [],
   "source": []
  }
 ],
 "metadata": {
  "kernelspec": {
   "display_name": "Python 3",
   "language": "python",
   "name": "python3"
  },
  "language_info": {
   "codemirror_mode": {
    "name": "ipython",
    "version": 3
   },
   "file_extension": ".py",
   "mimetype": "text/x-python",
   "name": "python",
   "nbconvert_exporter": "python",
   "pygments_lexer": "ipython3",
   "version": "3.13.1"
  }
 },
 "nbformat": 4,
 "nbformat_minor": 2
}
