{
 "cells": [
  {
   "cell_type": "code",
   "execution_count": 1,
   "metadata": {},
   "outputs": [],
   "source": [
    "#Built in Modules\n",
    "# OS\n",
    "\n",
    "import os"
   ]
  },
  {
   "cell_type": "code",
   "execution_count": 3,
   "metadata": {},
   "outputs": [
    {
     "data": {
      "text/plain": [
       "'c:\\\\Users\\\\Dell\\\\Desktop\\\\Python'"
      ]
     },
     "execution_count": 3,
     "metadata": {},
     "output_type": "execute_result"
    }
   ],
   "source": [
    "# get the current working directory's path\n",
    "\n",
    "os.getcwd()"
   ]
  },
  {
   "cell_type": "code",
   "execution_count": 4,
   "metadata": {},
   "outputs": [
    {
     "data": {
      "text/plain": [
       "['.ipynb_checkpoints',\n",
       " 'dataFile',\n",
       " 'dataFile.json',\n",
       " 'dictionary.ipynb',\n",
       " 'exceptionHandling.ipynb',\n",
       " 'file1.txt',\n",
       " 'fileHandling.ipynb',\n",
       " 'functions.ipynb',\n",
       " 'looping.ipynb',\n",
       " 'modules.ipynb',\n",
       " 'sets.ipynb',\n",
       " 'tuple.ipynb']"
      ]
     },
     "execution_count": 4,
     "metadata": {},
     "output_type": "execute_result"
    }
   ],
   "source": [
    "# list all the directories on current path\n",
    "\n",
    "os.listdir()"
   ]
  },
  {
   "cell_type": "code",
   "execution_count": 6,
   "metadata": {},
   "outputs": [
    {
     "data": {
      "text/plain": [
       "'nt'"
      ]
     },
     "execution_count": 6,
     "metadata": {},
     "output_type": "execute_result"
    }
   ],
   "source": [
    "os.name  # to get the name of OS, nt denotes windows os"
   ]
  },
  {
   "cell_type": "code",
   "execution_count": null,
   "metadata": {},
   "outputs": [],
   "source": [
    "# To change the directory\n",
    "\n",
    "os.chdir(r\"C:\\Users\\Dell\\Desktop\\Python\\abc\")"
   ]
  },
  {
   "cell_type": "code",
   "execution_count": 9,
   "metadata": {},
   "outputs": [
    {
     "data": {
      "text/plain": [
       "'C:\\\\Users\\\\Dell\\\\Desktop\\\\Python\\\\abc'"
      ]
     },
     "execution_count": 9,
     "metadata": {},
     "output_type": "execute_result"
    }
   ],
   "source": [
    "os.getcwd()"
   ]
  },
  {
   "cell_type": "code",
   "execution_count": 10,
   "metadata": {},
   "outputs": [],
   "source": [
    "os.mkdir(\"folder1\")   # To make a directory "
   ]
  },
  {
   "cell_type": "code",
   "execution_count": 11,
   "metadata": {},
   "outputs": [],
   "source": [
    "os.makedirs(\"folder2/folder3\")  # for making nested folders"
   ]
  },
  {
   "cell_type": "code",
   "execution_count": null,
   "metadata": {},
   "outputs": [],
   "source": [
    "os.rmdir(\"folder1\")  # removes single empty folder"
   ]
  },
  {
   "cell_type": "code",
   "execution_count": null,
   "metadata": {},
   "outputs": [],
   "source": [
    "os.removedirs(\"folder2/folder3\") # to remove nested folders at a time"
   ]
  },
  {
   "cell_type": "code",
   "execution_count": 18,
   "metadata": {},
   "outputs": [
    {
     "data": {
      "text/plain": [
       "False"
      ]
     },
     "execution_count": 18,
     "metadata": {},
     "output_type": "execute_result"
    }
   ],
   "source": [
    "os.path.exists(\"file.txt\")\n",
    "os.path.isfile(\"file.txt\")\n",
    "os.path.isdir(\"file.txt\")"
   ]
  },
  {
   "cell_type": "code",
   "execution_count": 23,
   "metadata": {},
   "outputs": [],
   "source": [
    "os.chdir(r\"C:\\\\Users\\\\Dell\\\\Desktop\\\\Python\")\n",
    "os.rename(\"dataFile\", \"file11.txt\")\n"
   ]
  },
  {
   "cell_type": "code",
   "execution_count": 24,
   "metadata": {},
   "outputs": [],
   "source": [
    "os.remove(\"newFile.txt\")   # To remove Files only"
   ]
  },
  {
   "cell_type": "code",
   "execution_count": 25,
   "metadata": {},
   "outputs": [
    {
     "data": {
      "text/plain": [
       "'C:\\\\Users\\\\Dell\\\\Desktop\\\\Python\\\\file11.txt'"
      ]
     },
     "execution_count": 25,
     "metadata": {},
     "output_type": "execute_result"
    }
   ],
   "source": [
    "os.path.abspath(\"file11.txt\")    # To get absolute path"
   ]
  },
  {
   "cell_type": "code",
   "execution_count": 107,
   "metadata": {},
   "outputs": [
    {
     "name": "stdout",
     "output_type": "stream",
     "text": [
      "file11.txt\n",
      "C:\\Users\\Dell\\Desktop\\Python\n"
     ]
    }
   ],
   "source": [
    "print(os.path.basename(\"C:\\\\Users\\\\Dell\\\\Desktop\\\\Python\\\\file11.txt\"))\n",
    "print(os.path.dirname(\"C:\\\\Users\\\\Dell\\\\Desktop\\\\Python\\\\file11.txt\"))"
   ]
  },
  {
   "cell_type": "code",
   "execution_count": null,
   "metadata": {},
   "outputs": [
    {
     "data": {
      "text/plain": [
       "'abc\\\\file2.txt'"
      ]
     },
     "execution_count": 108,
     "metadata": {},
     "output_type": "execute_result"
    }
   ],
   "source": [
    "os.path.join(\"abc\", \"file2.txt\")   # JOIN joins two paths only, does not create any file"
   ]
  },
  {
   "cell_type": "code",
   "execution_count": 30,
   "metadata": {},
   "outputs": [],
   "source": [
    "# For creating mutiple folders and sub folders in a directory simultaneously\n",
    "\n",
    "nested_folders = [\"data/raw\", \"data/processed\", \"logs\", \"models\"]\n",
    "\n",
    "for folders in nested_folders:\n",
    "    os.makedirs(folders, exist_ok=True)  "
   ]
  },
  {
   "cell_type": "code",
   "execution_count": 31,
   "metadata": {},
   "outputs": [],
   "source": [
    "# math modules is mainly for doinf math opeations\n",
    "\n",
    "import math"
   ]
  },
  {
   "cell_type": "code",
   "execution_count": 110,
   "metadata": {},
   "outputs": [
    {
     "data": {
      "text/plain": [
       "5.0"
      ]
     },
     "execution_count": 110,
     "metadata": {},
     "output_type": "execute_result"
    }
   ],
   "source": [
    "math.sqrt(25)"
   ]
  },
  {
   "cell_type": "code",
   "execution_count": 33,
   "metadata": {},
   "outputs": [],
   "source": [
    "# ramdom module to generate random numbers within a range or without it\n",
    "\n",
    "import random"
   ]
  },
  {
   "cell_type": "code",
   "execution_count": 34,
   "metadata": {},
   "outputs": [
    {
     "data": {
      "text/plain": [
       "0.06747320715375227"
      ]
     },
     "execution_count": 34,
     "metadata": {},
     "output_type": "execute_result"
    }
   ],
   "source": [
    "random.random()"
   ]
  },
  {
   "cell_type": "code",
   "execution_count": 46,
   "metadata": {},
   "outputs": [
    {
     "data": {
      "text/plain": [
       "12.905023539252308"
      ]
     },
     "execution_count": 46,
     "metadata": {},
     "output_type": "execute_result"
    }
   ],
   "source": [
    "random.uniform(10,20)"
   ]
  },
  {
   "cell_type": "code",
   "execution_count": 43,
   "metadata": {},
   "outputs": [
    {
     "data": {
      "text/plain": [
       "16"
      ]
     },
     "execution_count": 43,
     "metadata": {},
     "output_type": "execute_result"
    }
   ],
   "source": [
    "random.randrange(10,20)"
   ]
  },
  {
   "cell_type": "code",
   "execution_count": 45,
   "metadata": {},
   "outputs": [
    {
     "data": {
      "text/plain": [
       "20"
      ]
     },
     "execution_count": 45,
     "metadata": {},
     "output_type": "execute_result"
    }
   ],
   "source": [
    "random.randint(10,20)"
   ]
  },
  {
   "cell_type": "code",
   "execution_count": null,
   "metadata": {},
   "outputs": [
    {
     "data": {
      "text/plain": [
       "['red', 'green', 'yellow']"
      ]
     },
     "execution_count": 49,
     "metadata": {},
     "output_type": "execute_result"
    }
   ],
   "source": [
    "colors = [\"red\", \"blue\", \"green\", \"yellow\", \"black\"]\n",
    "\n",
    "random.choice(colors)\n",
    "random.choices(colors, k=3)  # it can give duplicate values "
   ]
  },
  {
   "cell_type": "code",
   "execution_count": 61,
   "metadata": {},
   "outputs": [
    {
     "name": "stdout",
     "output_type": "stream",
     "text": [
      "['blue', 'black', 'red', 'yellow', 'green']\n"
     ]
    }
   ],
   "source": [
    "random.sample(colors, k=3)  # it doesnt give duplicate values\n",
    "random.shuffle(colors)\n",
    "print(colors)"
   ]
  },
  {
   "cell_type": "code",
   "execution_count": 66,
   "metadata": {},
   "outputs": [
    {
     "data": {
      "text/plain": [
       "'Head'"
      ]
     },
     "execution_count": 66,
     "metadata": {},
     "output_type": "execute_result"
    }
   ],
   "source": [
    "random.choice([\"True\", \"False\"])\n",
    "random.choice([\"Head\", \"Tail\"])"
   ]
  },
  {
   "cell_type": "code",
   "execution_count": 67,
   "metadata": {},
   "outputs": [],
   "source": [
    "# date time module to do operations related to date, time and timedeltas(timezones)\n",
    "import datetime"
   ]
  },
  {
   "cell_type": "code",
   "execution_count": 70,
   "metadata": {},
   "outputs": [
    {
     "name": "stdout",
     "output_type": "stream",
     "text": [
      "2025-02-03\n"
     ]
    }
   ],
   "source": [
    "datetime.date.today()   # YYYY-MM-DD  default format\n",
    "print(datetime.date.today())"
   ]
  },
  {
   "cell_type": "code",
   "execution_count": 74,
   "metadata": {},
   "outputs": [
    {
     "name": "stdout",
     "output_type": "stream",
     "text": [
      "2025-02-03\n",
      "2025\n",
      "2\n",
      "3\n"
     ]
    }
   ],
   "source": [
    "specific_date = datetime.date(2025, 2,3)\n",
    "print(specific_date)\n",
    "print(specific_date.year)\n",
    "print(specific_date.month)\n",
    "print(specific_date.day)"
   ]
  },
  {
   "cell_type": "code",
   "execution_count": 75,
   "metadata": {},
   "outputs": [
    {
     "name": "stdout",
     "output_type": "stream",
     "text": [
      "15:05:50.392285\n"
     ]
    }
   ],
   "source": [
    "current_time = datetime.datetime.now().time()   ## HH:MM:SS:ms  tim default format\n",
    "print(current_time)"
   ]
  },
  {
   "cell_type": "code",
   "execution_count": 85,
   "metadata": {},
   "outputs": [
    {
     "name": "stdout",
     "output_type": "stream",
     "text": [
      "2025-02-03 15:22:27.150795\n"
     ]
    }
   ],
   "source": [
    "current_time = datetime.datetime.now()\n",
    "print(current_time)"
   ]
  },
  {
   "cell_type": "code",
   "execution_count": 119,
   "metadata": {},
   "outputs": [
    {
     "name": "stdout",
     "output_type": "stream",
     "text": [
      "14:23:01.565166\n",
      "14\n",
      "23\n",
      "1\n",
      "565166\n",
      "23:59:59.999999\n",
      "00:00:00\n"
     ]
    }
   ],
   "source": [
    "# create specific time\n",
    "# access time hour minute sec\n",
    "\n",
    "specific_time = datetime.datetime.now().time()\n",
    "print(specific_time)\n",
    "print(specific_time.hour)\n",
    "print(specific_time.minute)\n",
    "print(specific_time.second)\n",
    "print(specific_time.microsecond)\n",
    "print(specific_time.max)\n",
    "print(specific_time.min)\n",
    "\n"
   ]
  },
  {
   "cell_type": "code",
   "execution_count": 104,
   "metadata": {},
   "outputs": [
    {
     "name": "stdout",
     "output_type": "stream",
     "text": [
      "2025-02-04 12:52:14.934135\n",
      "2025-02-04\n",
      "4\n",
      "2\n",
      "2025\n",
      "12:52:14.934135\n",
      "12\n",
      "52\n",
      "14\n",
      "934135\n"
     ]
    }
   ],
   "source": [
    "# working with dateTime\n",
    "# Create specific date time together\n",
    "# access day, month year, hour, min, sec from datetime together\n",
    "\n",
    "specific_date_time = datetime.datetime.now()\n",
    "print(specific_date_time)\n",
    "print(specific_date_time.date())\n",
    "print(specific_date_time.day)\n",
    "print(specific_date_time.month)\n",
    "print(specific_date_time.year)\n",
    "print(specific_date_time.time())\n",
    "print(specific_date_time.hour)\n",
    "print(specific_date_time.minute)\n",
    "print(specific_date_time.second)\n",
    "print(specific_date_time.microsecond)"
   ]
  },
  {
   "cell_type": "code",
   "execution_count": 80,
   "metadata": {},
   "outputs": [
    {
     "name": "stdout",
     "output_type": "stream",
     "text": [
      "2025-02-03, 15:06:57\n"
     ]
    }
   ],
   "source": [
    "# convert date time intoa string format\n",
    "\n",
    "formatted_date = current_time.strftime(\"%Y-%m-%d, %H:%M:%S\")\n",
    "print(formatted_date)"
   ]
  },
  {
   "cell_type": "code",
   "execution_count": 83,
   "metadata": {},
   "outputs": [
    {
     "name": "stdout",
     "output_type": "stream",
     "text": [
      "2025-02-03 15:06:57\n"
     ]
    }
   ],
   "source": [
    "# Parsing date time string into date time format\n",
    "\n",
    "parse_date = datetime.datetime.strptime(formatted_date, \"%Y-%m-%d, %H:%M:%S\")\n",
    "print(parse_date)"
   ]
  },
  {
   "cell_type": "code",
   "execution_count": 84,
   "metadata": {},
   "outputs": [
    {
     "name": "stdout",
     "output_type": "stream",
     "text": [
      "2 days, 10:46:00\n"
     ]
    }
   ],
   "source": [
    "# Time delta ..... to add or remove specific time from a given date time data\n",
    "\n",
    "delta = datetime.timedelta(days=2.3, hours= 3, minutes=34)\n",
    "delta = datetime.timedelta()\n",
    "print(delta)"
   ]
  },
  {
   "cell_type": "code",
   "execution_count": 86,
   "metadata": {},
   "outputs": [
    {
     "name": "stdout",
     "output_type": "stream",
     "text": [
      "2025-02-06 02:08:27.150795\n"
     ]
    }
   ],
   "source": [
    "print(current_time+delta)"
   ]
  },
  {
   "cell_type": "code",
   "execution_count": 91,
   "metadata": {},
   "outputs": [],
   "source": [
    "import userdefinedmod as ud\n"
   ]
  },
  {
   "cell_type": "code",
   "execution_count": 106,
   "metadata": {},
   "outputs": [
    {
     "name": "stdout",
     "output_type": "stream",
     "text": [
      "10.141\n",
      "32\n"
     ]
    }
   ],
   "source": [
    "add1 = ud.add(2,5)\n",
    "print(add1 + ud.Pi)\n",
    "print(ud.subtract(5,1) * ud.add(2,6))"
   ]
  },
  {
   "cell_type": "code",
   "execution_count": 116,
   "metadata": {},
   "outputs": [
    {
     "name": "stdout",
     "output_type": "stream",
     "text": [
      "3.141\n"
     ]
    }
   ],
   "source": [
    "from userdefinedmod import Pi   # From keyword is used to import a single function from a module\n",
    "print(ud.Pi)"
   ]
  },
  {
   "cell_type": "code",
   "execution_count": 111,
   "metadata": {},
   "outputs": [],
   "source": [
    "import platform\n",
    "\n"
   ]
  },
  {
   "cell_type": "code",
   "execution_count": 113,
   "metadata": {},
   "outputs": [
    {
     "name": "stdout",
     "output_type": "stream",
     "text": [
      "Windows\n"
     ]
    }
   ],
   "source": [
    "print(platform.system())"
   ]
  },
  {
   "cell_type": "code",
   "execution_count": 114,
   "metadata": {},
   "outputs": [
    {
     "name": "stdout",
     "output_type": "stream",
     "text": [
      "['AndroidVer', 'IOSVersionInfo', '_Processor', '_WIN32_CLIENT_RELEASES', '_WIN32_SERVER_RELEASES', '__builtins__', '__cached__', '__copyright__', '__doc__', '__file__', '__loader__', '__name__', '__package__', '__spec__', '__version__', '_comparable_version', '_default_architecture', '_follow_symlinks', '_get_machine_win32', '_java_getprop', '_mac_ver_xml', '_node', '_norm_version', '_os_release_cache', '_os_release_candidates', '_parse_os_release', '_platform', '_platform_cache', '_sys_version', '_sys_version_cache', '_syscmd_file', '_syscmd_ver', '_uname_cache', '_unknown_as_blank', '_ver_stages', '_win32_ver', '_wmi', '_wmi_query', 'android_ver', 'architecture', 'collections', 'freedesktop_os_release', 'functools', 'ios_ver', 'itertools', 'java_ver', 'libc_ver', 'mac_ver', 'machine', 'node', 'os', 'platform', 'processor', 'python_branch', 'python_build', 'python_compiler', 'python_implementation', 'python_revision', 'python_version', 'python_version_tuple', 're', 'release', 'sys', 'system', 'system_alias', 'uname', 'uname_result', 'version', 'win32_edition', 'win32_is_iot', 'win32_ver']\n"
     ]
    }
   ],
   "source": [
    "print(dir(platform))"
   ]
  },
  {
   "cell_type": "code",
   "execution_count": 120,
   "metadata": {},
   "outputs": [],
   "source": [
    "# Regex module  used for pattern matching and text processing in a string\n",
    "\n",
    "import re"
   ]
  },
  {
   "cell_type": "code",
   "execution_count": 121,
   "metadata": {},
   "outputs": [
    {
     "name": "stdout",
     "output_type": "stream",
     "text": [
      "Match found:  Hello\n"
     ]
    }
   ],
   "source": [
    "# It has 4 main fucntions:\n",
    "# search, findall, split, sub\n",
    "\n",
    "text = \"Hello! My name is dev\"\n",
    "match = re.search(\"Hello\", text)\n",
    "\n",
    "if match:\n",
    "    print(\"Match found: \", match.group())   # group() function used to retrieve matched string in regex module"
   ]
  },
  {
   "cell_type": "code",
   "execution_count": 122,
   "metadata": {},
   "outputs": [
    {
     "name": "stdout",
     "output_type": "stream",
     "text": [
      "['cat', 'rat', 'mat']\n"
     ]
    }
   ],
   "source": [
    "# findall\n",
    "\n",
    "text = \"cat, rat, mat, bat\"\n",
    "\n",
    "matches = re.findall(r\"[cmr]at\", text)  # find all words end with 'at' and start with c,m,r\n",
    "print(matches)"
   ]
  },
  {
   "cell_type": "code",
   "execution_count": 124,
   "metadata": {},
   "outputs": [
    {
     "name": "stdout",
     "output_type": "stream",
     "text": [
      "I love Java, Java is great!\n"
     ]
    }
   ],
   "source": [
    "# sub.... It replaces matches in a string\n",
    "\n",
    "text = \"I love Python, Python is great!\"\n",
    "\n",
    "matches = re.sub(r\"Python\", \"Java\", text)  # replace Python with Java\n",
    "print(matches)\n"
   ]
  },
  {
   "cell_type": "code",
   "execution_count": 125,
   "metadata": {},
   "outputs": [
    {
     "name": "stdout",
     "output_type": "stream",
     "text": [
      "['word1', 'word2', 'word3', 'word4']\n"
     ]
    }
   ],
   "source": [
    "# Split .... splits the string based on regex pattern\n",
    "\n",
    "text = \"word1,word2:word3|word4\"\n",
    "\n",
    "matches = re.split(r\"[,:|]\", text)\n",
    "print(matches)"
   ]
  },
  {
   "cell_type": "code",
   "execution_count": null,
   "metadata": {},
   "outputs": [],
   "source": []
  }
 ],
 "metadata": {
  "kernelspec": {
   "display_name": "Python 3",
   "language": "python",
   "name": "python3"
  },
  "language_info": {
   "codemirror_mode": {
    "name": "ipython",
    "version": 3
   },
   "file_extension": ".py",
   "mimetype": "text/x-python",
   "name": "python",
   "nbconvert_exporter": "python",
   "pygments_lexer": "ipython3",
   "version": "3.13.1"
  }
 },
 "nbformat": 4,
 "nbformat_minor": 2
}
