{
 "cells": [
  {
   "cell_type": "code",
   "execution_count": 3,
   "metadata": {},
   "outputs": [
    {
     "name": "stdout",
     "output_type": "stream",
     "text": [
      "100\n",
      "200\n"
     ]
    }
   ],
   "source": [
    "\n",
    "# Class\n",
    "\n",
    "class myClass:\n",
    "     \n",
    "     num1 = 100         # class variables\n",
    "     num2 = 200\n",
    "\n",
    "\n",
    "     def show(self):\n",
    "          print(self.num1)\n",
    "          print(self.num2)\n",
    "\n",
    "# Creating Class Object\n",
    "\n",
    "obj1 = myClass()\n",
    "obj1.show()  # method calling\n"
   ]
  },
  {
   "cell_type": "code",
   "execution_count": 21,
   "metadata": {},
   "outputs": [
    {
     "name": "stdout",
     "output_type": "stream",
     "text": [
      "cat\n",
      "dog\n",
      "20\n",
      "Horse\n",
      "dog\n",
      "20\n"
     ]
    },
    {
     "data": {
      "text/plain": [
       "'horse'"
      ]
     },
     "execution_count": 21,
     "metadata": {},
     "output_type": "execute_result"
    }
   ],
   "source": [
    "class Animal:\n",
    "\n",
    "    name1 = \"cat\"\n",
    "    name2 = \"dog\"\n",
    "\n",
    "    # __init__ is a constructor ----- variable define\n",
    "\n",
    "    def __init__(self,name,age):\n",
    "        self.name = name   # variables inside __init__ are called instance variables\n",
    "        self.age = age\n",
    "\n",
    "    def display(self):\n",
    "        print(self.name1)\n",
    "        print(self.name2)\n",
    "        print(self.age)\n",
    "\n",
    "ani = Animal(name= \"horse\", age =\"20\")\n",
    "ani.display()\n",
    "ani.name1 = \"Horse\"\n",
    "ani.display()\n",
    "\n",
    "# ani2 = Animal(name=\"\", age= \"10\")\n",
    "# ani2.display()\n",
    "\n",
    "del ani.age\n",
    "# ani.display()\n",
    "ani.name \n"
   ]
  },
  {
   "cell_type": "code",
   "execution_count": 17,
   "metadata": {},
   "outputs": [
    {
     "name": "stdout",
     "output_type": "stream",
     "text": [
      "3.141\n",
      "25\n"
     ]
    }
   ],
   "source": [
    "# static method\n",
    "\n",
    "class MathOperation:\n",
    "\n",
    "    pi = 3.141   # static variable (class variable)\n",
    "\n",
    "    # static method\n",
    "    @staticmethod\n",
    "    def square(num):\n",
    "        return num * num\n",
    "    \n",
    "# Accessing static variable\n",
    "print(MathOperation.pi)\n",
    "\n",
    "# Accessing static method\n",
    "print(MathOperation.square(5))"
   ]
  },
  {
   "cell_type": "code",
   "execution_count": 25,
   "metadata": {},
   "outputs": [
    {
     "name": "stdout",
     "output_type": "stream",
     "text": [
      "abc\n",
      "20\n",
      "abc\n"
     ]
    }
   ],
   "source": [
    "# Inheritance\n",
    "\n",
    "class parent:\n",
    "    def __init__(self, name):\n",
    "        self.name = name\n",
    "\n",
    "    def display(self):\n",
    "        print(self.name)\n",
    "\n",
    "class child(parent):\n",
    "    def __init__(self, age,name):\n",
    "        super().__init__(name)\n",
    "        self.age = age\n",
    "    \n",
    "    def displayChild(self):\n",
    "        print(self.age)\n",
    "        print(self.name)\n",
    "\n",
    "\n",
    "obj = child(age = 20, name = \"abc\")\n",
    "obj.display()\n",
    "obj.displayChild()"
   ]
  },
  {
   "cell_type": "code",
   "execution_count": 5,
   "metadata": {},
   "outputs": [],
   "source": [
    "# Multiple and MultiLevel Inheritance\n",
    "\n",
    "class Person:\n",
    "    def __init__(self, name):\n",
    "        self.name = name\n",
    "\n",
    "class Employee(Person):                              # Single Inheritance\n",
    "    def __init__(self,name, salary):\n",
    "        super().__init__(name)\n",
    "        self.salary = salary\n",
    "\n",
    "class Job:\n",
    "    def __init__(self,salary):\n",
    "        self.salary = salary\n",
    "\n",
    "class EmployeePersonJob(Employee, Job):              # Multiple Inheritance\n",
    "    def __init__(self, name, salary):\n",
    "        Employee.__init__(self,name, salary)\n",
    "        Job.__init__(self,salary)\n",
    "\n",
    "\n",
    "empPer = EmployeePersonJob(name=\"abc\", salary=1111)\n",
    "\n",
    "\n",
    "class Manager(EmployeePersonJob):                     # Multilevel Inheritance\n",
    "    def __init__(self, name, salary, department):\n",
    "        EmployeePersonJob.__init__(self, name, salary)\n",
    "        self.department = department\n",
    "\n",
    "\n",
    "class AssistantManager(EmployeePersonJob):              # Hierarchichal Inheritance\n",
    "    def __init__(self, name, salary, teamsize):\n",
    "        EmployeePersonJob.__init__(self, name, salary)\n",
    "        self.teamsize = teamsize\n",
    "\n",
    "class SeniorManager(Manager, AssistantManager):             # Hybrid Inheritance\n",
    "    def __init__(self, name, salary, department, teamsize):\n",
    "        Manager.__init__(self,name,salary, department)\n",
    "        AssistantManager.__init__(self, name, salary, teamsize)\n",
    "\n"
   ]
  },
  {
   "cell_type": "code",
   "execution_count": 10,
   "metadata": {},
   "outputs": [
    {
     "name": "stdout",
     "output_type": "stream",
     "text": [
      "6\n",
      "Hello World\n",
      "[1, 2, 3, 4, 5, 6]\n"
     ]
    }
   ],
   "source": [
    "# Polymorphism\n",
    "\n",
    "def add(a,b):\n",
    "    return a+b\n",
    "\n",
    "print(add(2,4))\n",
    "print(add(\"Hello \", \"World\"))\n",
    "print(add([1,2,3], [4,5,6]))\n",
    "\n",
    "# do one example of polymophism"
   ]
  },
  {
   "cell_type": "code",
   "execution_count": 8,
   "metadata": {},
   "outputs": [
    {
     "name": "stdout",
     "output_type": "stream",
     "text": [
      "10\n",
      "78.5\n"
     ]
    }
   ],
   "source": [
    "# Polymorphism Example\n",
    "\n",
    "class Shape:\n",
    "\n",
    "    def area(self):\n",
    "        return \"Undefined\"\n",
    "    \n",
    "class Rectangle(Shape):\n",
    "    def __init__(self, length, breadth):\n",
    "        self. length = length\n",
    "        self.breadth = breadth\n",
    "\n",
    "    def area(self):\n",
    "        return self.length * self.breadth\n",
    "    \n",
    "class Circle(Shape):\n",
    "    def __init__(self, radius):\n",
    "        self. radius = radius\n",
    "\n",
    "    def area(self):\n",
    "        return  3.14 * self.radius * self.radius \n",
    "    \n",
    "   \n",
    "\n",
    "obj1 = Rectangle(2,5)\n",
    "print(obj1.area())\n",
    "\n",
    "obj2 = Circle(5)\n",
    "print(obj2.area())"
   ]
  },
  {
   "cell_type": "code",
   "execution_count": 13,
   "metadata": {},
   "outputs": [
    {
     "name": "stdout",
     "output_type": "stream",
     "text": [
      "Message from Parent class\n",
      "Message from Child class\n"
     ]
    }
   ],
   "source": [
    "# Method Overloading not supported by Python\n",
    "\n",
    "# Method Overriding\n",
    "\n",
    "class Parent:\n",
    "    def display(self):\n",
    "        print(\"Message from Parent class\")\n",
    "\n",
    "class Child(Parent):\n",
    "    def display(self):\n",
    "        print(\"Message from Child class\")\n",
    "\n",
    "obj1 = Parent()\n",
    "obj1.display()\n",
    "\n",
    "obj2 = Child()\n",
    "obj2.display()\n"
   ]
  },
  {
   "cell_type": "code",
   "execution_count": 15,
   "metadata": {},
   "outputs": [
    {
     "name": "stdout",
     "output_type": "stream",
     "text": [
      "Brand:  Maruti\n",
      "Model:  Alto\n",
      "Year:  2022\n"
     ]
    }
   ],
   "source": [
    "# Abstraction\n",
    "\n",
    "from abc import ABC, abstractmethod    # ABC stands for Abstract Base Class\n",
    "\n",
    "class Car(ABC):\n",
    "    def __init__(self, brand, model, year):\n",
    "        self.brand = brand\n",
    "        self.model = model\n",
    "        self.year = year\n",
    "\n",
    "\n",
    "    @abstractmethod\n",
    "    def printDetails(self):\n",
    "        pass\n",
    "\n",
    "    def accelerte(self):\n",
    "        print(\"Speed up...\")\n",
    "\n",
    "class hatchBack(Car):\n",
    "    def printDetails(self):\n",
    "        print(\"Brand: \", self.brand)\n",
    "        print(\"Model: \", self.model)\n",
    "        print(\"Year: \", self.year)\n",
    "\n",
    "car = hatchBack(\"Maruti\", \"Alto\", \"2022\")\n",
    "car.printDetails()"
   ]
  },
  {
   "cell_type": "code",
   "execution_count": 19,
   "metadata": {},
   "outputs": [
    {
     "name": "stdout",
     "output_type": "stream",
     "text": [
      "30\n"
     ]
    }
   ],
   "source": [
    "# Encapsulation\n",
    "\n",
    "class Protected:\n",
    "    def __init__(self, age):\n",
    "        self._age = age  # Protected variable by using single underscore before its name (_age)\n",
    "\n",
    "class SubClass(Protected):\n",
    "    def display_age(self):\n",
    "        print(self._age)\n",
    "\n",
    "obj1 = SubClass(30)\n",
    "obj1.display_age()"
   ]
  },
  {
   "cell_type": "code",
   "execution_count": 26,
   "metadata": {},
   "outputs": [
    {
     "name": "stdout",
     "output_type": "stream",
     "text": [
      "30\n"
     ]
    }
   ],
   "source": [
    "class Private:\n",
    "    def __init__(self, age):\n",
    "        self.__age = age  # Private variable by using double underscore before its name (__age)\n",
    "\n",
    "\n",
    "    def display_age(self):\n",
    "        return self.__age\n",
    "\n",
    "obj1 = Private(30)\n",
    "# obj1.display_age()\n",
    "# obj1.__age   # This gives error because it is a private variable can't be accessed outside the class.\n",
    "\n",
    "# Name Mangling   \n",
    "# To access private variable outside the class name mangling is required, in which call the variable name with calss name\n",
    "# Syntax:  _ClassName__PrivateVariableName\n",
    "\n",
    "print(obj1._Private__age)"
   ]
  },
  {
   "cell_type": "code",
   "execution_count": null,
   "metadata": {},
   "outputs": [],
   "source": []
  }
 ],
 "metadata": {
  "kernelspec": {
   "display_name": "Python 3",
   "language": "python",
   "name": "python3"
  },
  "language_info": {
   "codemirror_mode": {
    "name": "ipython",
    "version": 3
   },
   "file_extension": ".py",
   "mimetype": "text/x-python",
   "name": "python",
   "nbconvert_exporter": "python",
   "pygments_lexer": "ipython3",
   "version": "3.13.1"
  }
 },
 "nbformat": 4,
 "nbformat_minor": 2
}
