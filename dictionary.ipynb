{
 "cells": [
  {
   "cell_type": "code",
   "execution_count": 1,
   "metadata": {},
   "outputs": [
    {
     "name": "stdout",
     "output_type": "stream",
     "text": [
      "{'name': 'richa', 'phone': '11111', 'dob': '2222'}\n",
      "<class 'dict'>\n"
     ]
    }
   ],
   "source": [
    "dict1 = {\"name\":\"richa\",\n",
    "         \"phone\":\"11111\",\n",
    "         \"dob\" : \"2222\"\n",
    "         }\n",
    "print(dict1)\n",
    "print(type(dict1))\n"
   ]
  },
  {
   "cell_type": "code",
   "execution_count": 28,
   "metadata": {},
   "outputs": [
    {
     "name": "stdout",
     "output_type": "stream",
     "text": [
      "{'name': ['a', 'b', 'c', 'a'], 'phone': [1, 2, 3], 'dob': [55, 66, 77]}\n",
      "{'name': ['a', 'a', 'b', 'c', 'e'], 'phone': [1, 2, 3], 'dob': [55, 66, 77]}\n"
     ]
    }
   ],
   "source": [
    "dict1 = {\"name\":[\"a\",\"b\", \"c\", \"a\"], # dictionary can store multiple values as lists, sets, tuple and dictionary\n",
    "         \"phone\":[1,2,3],\n",
    "         \"dob\" : [55,66,77]\n",
    "         }\n",
    "print(dict1)\n",
    "dict1[\"name\"].append(\"e\")\n",
    "dict1[\"name\"].reverse()\n",
    "dict1[\"name\"].sort()\n",
    "print(dict1)"
   ]
  },
  {
   "cell_type": "code",
   "execution_count": 42,
   "metadata": {},
   "outputs": [
    {
     "name": "stdout",
     "output_type": "stream",
     "text": [
      "{'name': ['a', 'b', 'c', 'a'], 'phone': [1, 2, 3], 'dob': [55, 66, 77]}\n",
      "{'name': ['a', 'b', 'c', 'a'], 'phone': [1, 2, 3], 'dob': [55, 66, 77], 'enrol_no': '100'}\n"
     ]
    }
   ],
   "source": [
    "# print(dict1[\"name\"])\n",
    "# dict1[\"name\"][1]= \"11\"\n",
    "# print(dict1[\"name\"][1])\n",
    "dict1 = {\"name\":[\"a\",\"b\", \"c\", \"a\"], # dictionary can store multiple values as lists, sets, tuple and dictionary\n",
    "         \"phone\":[1,2,3],\n",
    "         \"dob\" : [55,66,77]\n",
    "         }\n",
    "print(dict1)\n",
    "# dict1.pop(\"name\")\n",
    "# dict1.popitem()\n",
    "\n",
    "# del dict1[\"name\"]   # delete item issame as pop \n",
    "# del dict1   # delete is used mainly to delete dictionary itself\n",
    "dict1.update({\"name\":\"abcd\", \"phone\" : 1112, \"dob\": 3123})\n",
    "dict1.setdefault(\"enrol_no\",\"100\")\n",
    "print(dict1)"
   ]
  },
  {
   "cell_type": "code",
   "execution_count": 17,
   "metadata": {},
   "outputs": [
    {
     "name": "stdout",
     "output_type": "stream",
     "text": [
      "{'name': 'abc', 'age': '30', 'city': 'jaipur'}\n",
      "jaipur\n",
      "None\n",
      "dict_items([('name', 'abc'), ('age', '30'), ('city', 'jaipur')])\n",
      "dict_keys(['name', 'age', 'city'])\n",
      "dict_values(['abc', '30', 'jaipur'])\n"
     ]
    }
   ],
   "source": [
    "dt = dict(name = \"abc\", age = \"30\", city = \"jaipur\")\n",
    "print(dt)\n",
    "print(dt.get(\"city\"))\n",
    "print(dt.get(\"phone\"))\n",
    "print(dt.items())\n",
    "print(dt.keys())\n",
    "print(dt.values())\n",
    "\n",
    "dt[\"name\"]"
   ]
  },
  {
   "cell_type": "code",
   "execution_count": 46,
   "metadata": {},
   "outputs": [
    {
     "name": "stdout",
     "output_type": "stream",
     "text": [
      "{'name': 'Hello', 'sirname': 'Hello'}\n"
     ]
    }
   ],
   "source": [
    "# FromKeys\n",
    "dict1 = dict.fromkeys([\"name\",\"sirname\"])  # with default value none\n",
    "dict1 = dict.fromkeys([\"name\",\"sirname\"], \"Hello\")   # with default value given as 'Hello'\n",
    "print(dict1)"
   ]
  },
  {
   "cell_type": "code",
   "execution_count": 61,
   "metadata": {},
   "outputs": [
    {
     "name": "stdout",
     "output_type": "stream",
     "text": [
      "[10, 20, [30, 40, 50, [600, 70], 80], 90, 100]\n",
      "10\n",
      "20\n",
      "[30, 40, 50, [600, 70], 80]\n",
      "90\n",
      "100\n"
     ]
    }
   ],
   "source": [
    "list1 = [10, 20, [30, 40, 50, [60, 70], 80], 90, 100]\n",
    "# list1[2]\n",
    "# list1[2][3]\n",
    "list1[2][3][0] = 600\n",
    "print(list1) \n",
    "\n",
    "for x in list1:\n",
    "# for x in list1[2]:\n",
    "# for x in list1[2][3]:\n",
    " print(x)\n"
   ]
  },
  {
   "cell_type": "code",
   "execution_count": null,
   "metadata": {},
   "outputs": [],
   "source": []
  }
 ],
 "metadata": {
  "kernelspec": {
   "display_name": "Python 3",
   "language": "python",
   "name": "python3"
  },
  "language_info": {
   "codemirror_mode": {
    "name": "ipython",
    "version": 3
   },
   "file_extension": ".py",
   "mimetype": "text/x-python",
   "name": "python",
   "nbconvert_exporter": "python",
   "pygments_lexer": "ipython3",
   "version": "3.13.1"
  }
 },
 "nbformat": 4,
 "nbformat_minor": 2
}
